{
 "cells": [
  {
   "cell_type": "markdown",
   "metadata": {},
   "source": [
    "# Task2 "
   ]
  },
  {
   "cell_type": "markdown",
   "metadata": {},
   "source": [
    "####  Draw by Turtle Code:"
   ]
  },
  {
   "cell_type": "code",
   "execution_count": 2,
   "metadata": {
    "collapsed": false
   },
   "outputs": [],
   "source": [
    "import turtle#                  استدعاء للمكتبه\n",
    "turtle.shape('arrow') #                    تحديد شكل الجسم المتحرك\n",
    "turtle.speed(10)\n",
    "square=0 #                       متغير يمثل رتبة المربعات\n",
    "for i in range (60): # حلقة تمثل عدد المربعات(داخل الرينج) ومابداخل الحلقة يطبق على المربعات \n",
    "    square +=1 # يمثل مقدار الزياده في رتبة المربعات لكل مربع\n",
    "    for x in range(4):# حلقه ترسم 4 خطوط مستقيمه حسب الكود بداخلها و تمثل عدد اضلاع المربع \n",
    "        turtle.forward(20+square)#هنا نرسم خط طوله يساوي (طول الخط + رتبة المربع) ولهذا يصبح هناك تزايد في شكل المربع \n",
    "        turtle.right(90) # عند انتهاء كل الخط ، ينحني الراسم لليمين بزاوية (90)\n",
    "    turtle.right(5) # عند اكتمال كل مربع ، ينحني مسار الراسم (5) درجات"
   ]
  }
 ],
 "metadata": {
  "kernelspec": {
   "display_name": "Python 3",
   "language": "python",
   "name": "python3"
  },
  "language_info": {
   "codemirror_mode": {
    "name": "ipython",
    "version": 3
   },
   "file_extension": ".py",
   "mimetype": "text/x-python",
   "name": "python",
   "nbconvert_exporter": "python",
   "pygments_lexer": "ipython3",
   "version": "3.6.0"
  }
 },
 "nbformat": 4,
 "nbformat_minor": 2
}

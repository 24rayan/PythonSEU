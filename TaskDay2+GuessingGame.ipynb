{
 "cells": [
  {
   "cell_type": "markdown",
   "metadata": {},
   "source": [
    "# Task2 "
   ]
  },
  {
   "cell_type": "markdown",
   "metadata": {},
   "source": [
    "## Guessing game:"
   ]
  },
  {
   "cell_type": "code",
   "execution_count": null,
   "metadata": {
    "collapsed": false
   },
   "outputs": [],
   "source": [
    "#Guess game\n",
    "import random\n",
    "hideNum =random.randrange(0,11) #                                                        الرقم الذي سيختاره البرنامج من صفر الى 10\n",
    "trialNum= int(input(\"Enter a number of trails from 1 to 9 or 0 to generate a random number>\")) #   يدخل المستخدم عدد المحاولات \n",
    "if trialNum in range(1,10) : #                                                                         إذا ادخل عدد من 1 الى 9 \n",
    "    print(\"You have {} trials\".format(trialNum)) #                                        نطبع للمستخدم عدد المحاولات التي ادخلها\n",
    "else: #                                                                                 في حال اختار صفر او غيرها كعدد كبير مثل 24 \n",
    "    trialNum=random.randrange(1,10) #                                               سيختار البرنامج عدد محاولات عشوائي من 1 الى 9\n",
    "    print(\"You have {} trials\".format(trialNum)) #                                                      بالطبع سيظهرها للمستخدم\n",
    "\n",
    "guess = int(input(\"Enter your guess from 0 to 10>\")) #                                           يطلب من المستخدم ادخال التخمين\n",
    "counter =1 #                                                      يمثل عدد مرات اللعب،و يستخدم للخصم من عدد المحاولات في حال الخطأ \n",
    "while guess != hideNum and counter <trialNum:#                   هنا وضعنا حلقه تشتمل على شرطين 1. التخمين لايساوي القيمه الصحيحه.\n",
    "                                             #                     و2.مرات التجريب اقل من المحاولات \n",
    "    if guess < hideNum: #                                           اذا تحققت شروط الحقله ندخل للشروط التاليه وهي طباعة اختيار منخفض\n",
    "        print(\"Too Low\")\n",
    "    else:\n",
    "        print(\"Too High\")#                                          أو اختيار مرتفع\n",
    "    \n",
    "    counter = counter + 1 #                                                                    لا ننسى تحديث قيمة عدد مرات اللعب\n",
    "    print(\"Your Remaining Trials =\" , trialNum - counter) #                                          وطباعة عدد المحاولات المتبقية    \n",
    "    \n",
    "    guess = int(input(\"Try again, Enter a number from 0 to 10>\"))#     هنا نخرج من الشرط ونعود للحلقه لنطلب من المستخدم اعادة الاختيار\n",
    "    \n",
    "if guess == hideNum:#                                                               في حال لم تتحقق شروط الحلقه وكان التوقع صحيح\n",
    "    print(\"Great, You got the correct number\")#                   نطبع له الرساله التاليه\n",
    "else:\n",
    "    print(\"Game Over, The correct number was =\",hideNum)#                              عدا ذلك نبلغه بخسارته ونطبع له القيمة الصحيحه "
   ]
  }
 ],
 "metadata": {
  "kernelspec": {
   "display_name": "Python 3",
   "language": "python",
   "name": "python3"
  },
  "language_info": {
   "codemirror_mode": {
    "name": "ipython",
    "version": 3
   },
   "file_extension": ".py",
   "mimetype": "text/x-python",
   "name": "python",
   "nbconvert_exporter": "python",
   "pygments_lexer": "ipython3",
   "version": "3.6.0"
  }
 },
 "nbformat": 4,
 "nbformat_minor": 2
}

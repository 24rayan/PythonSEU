{
 "cells": [
  {
   "cell_type": "markdown",
   "metadata": {},
   "source": [
    "# Task1\n",
    "\n",
    "## 1.Welcoming:\n",
    "### Ask user to write its name. Then print out a welcoming with user's name.\n",
    "\n",
    "## 2.Addition:\n",
    "### Let user put two decimal number. Then print out the sum of them."
   ]
  },
  {
   "cell_type": "code",
   "execution_count": null,
   "metadata": {
    "collapsed": false
   },
   "outputs": [],
   "source": [
    "#1\n",
    "name = input('Hi, What is your name ?')\n",
    "print('Welcome {} in our Python bootcamp.'.format(name)) #Q1, f'Welcome {name} in our Python bootcamp'\n",
    "\n",
    "#2\n",
    "x = float(input('Please enter a first decimal number: '))\n",
    "y = float(input('Please enter a second decimal number: '))\n",
    "print('Thank you, the sum of these numbers is equal to {0:.4}'.format(x+y))"
   ]
  }
 ],
 "metadata": {
  "kernelspec": {
   "display_name": "Python 3",
   "language": "python",
   "name": "python3"
  },
  "language_info": {
   "codemirror_mode": {
    "name": "ipython",
    "version": 3
   },
   "file_extension": ".py",
   "mimetype": "text/x-python",
   "name": "python",
   "nbconvert_exporter": "python",
   "pygments_lexer": "ipython3",
   "version": "3.6.0"
  }
 },
 "nbformat": 4,
 "nbformat_minor": 2
}
